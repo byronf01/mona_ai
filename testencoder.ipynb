{
 "cells": [
  {
   "cell_type": "code",
   "execution_count": 9,
   "metadata": {},
   "outputs": [],
   "source": [
    "import tiktoken\n",
    "import torch\n",
    "import torch.nn as nn \n",
    "import math\n",
    "from torch.nn import functional as F\n",
    "from model import Encoder\n",
    "\n",
    "# -------- CONSTANTS -------- # \n",
    "device = \"cpu\" # \"cuda:0\" if torch.cuda.is_available() else \"cpu\"\n",
    "VOCAB_SIZE = 50257 + 1 # 51000\n",
    "LR = 6e-4 # 3e-4\n",
    "DROPOUT = 0.2\n",
    "HEADS = 8\n",
    "NX = 8\n",
    "LR = 3e-4 # 6e-4\n",
    "BATCH_SIZE = 14 # 64\n",
    "CTX = 200 # 256\n",
    "EMBED_DIM = 584\n",
    "# --------------------------- # \n",
    "enc = tiktoken.get_encoding(\"gpt2\")"
   ]
  },
  {
   "cell_type": "code",
   "execution_count": 11,
   "metadata": {},
   "outputs": [],
   "source": [
    "class PositionalEncoding(nn.Module):\n",
    "\n",
    "    def __init__(self, d_model: int, dropout: float = 0.1, max_len: int = 5000):\n",
    "        super().__init__()\n",
    "        self.dropout = nn.Dropout(p=dropout)\n",
    "\n",
    "        position = torch.arange(max_len).unsqueeze(1)\n",
    "        div_term = torch.exp(torch.arange(0, d_model, 2) * (-math.log(10000.0) / d_model))\n",
    "        pe = torch.zeros(max_len, 1, d_model)\n",
    "        pe[:, 0, 0::2] = torch.sin(position * div_term)\n",
    "        pe[:, 0, 1::2] = torch.cos(position * div_term)\n",
    "        self.register_buffer('pe', pe)\n",
    "\n",
    "    def forward(self, x: torch.Tensor) -> torch.Tensor:\n",
    "        \"\"\"\n",
    "        Arguments:\n",
    "            x: Tensor, shape ``[seq_len, batch_size, embedding_dim]``\n",
    "        \"\"\"\n",
    "        x = x + self.pe[:x.size(0)]\n",
    "        return self.dropout(x)"
   ]
  },
  {
   "cell_type": "code",
   "execution_count": 30,
   "metadata": {},
   "outputs": [
    {
     "name": "stdout",
     "output_type": "stream",
     "text": [
      "What is the worst customer service experience you have ever had? <|endoftext|>\n",
      "[2061, 318, 262, 5290, 6491, 2139, 1998, 345, 423, 1683, 550, 30, 220, 50256, 50257, 50257, 50257, 50257, 50257, 50257, 50257, 50257, 50257, 50257, 50257, 50257, 50257, 50257, 50257, 50257, 50257, 50257, 50257, 50257, 50257, 50257, 50257, 50257, 50257, 50257, 50257, 50257, 50257, 50257, 50257, 50257, 50257, 50257, 50257, 50257, 50257, 50257, 50257, 50257, 50257, 50257, 50257, 50257, 50257, 50257, 50257, 50257, 50257, 50257, 50257, 50257, 50257, 50257, 50257, 50257, 50257, 50257, 50257, 50257, 50257, 50257, 50257, 50257, 50257, 50257, 50257, 50257, 50257, 50257, 50257, 50257, 50257, 50257, 50257, 50257, 50257, 50257, 50257, 50257, 50257, 50257, 50257, 50257, 50257, 50257, 50257, 50257, 50257, 50257, 50257, 50257, 50257, 50257, 50257, 50257, 50257, 50257, 50257, 50257, 50257, 50257, 50257, 50257, 50257, 50257, 50257, 50257, 50257, 50257, 50257, 50257, 50257, 50257, 50257, 50257, 50257, 50257, 50257, 50257, 50257, 50257, 50257, 50257, 50257, 50257, 50257, 50257, 50257, 50257, 50257, 50257, 50257, 50257, 50257, 50257, 50257, 50257, 50257, 50257, 50257, 50257, 50257, 50257, 50257, 50257, 50257, 50257, 50257, 50257, 50257, 50257, 50257, 50257, 50257, 50257, 50257, 50257, 50257, 50257, 50257, 50257, 50257, 50257, 50257, 50257, 50257, 50257, 50257, 50257, 50257, 50257, 50257, 50257, 50257, 50257, 50257, 50257, 50257, 50257, 50257, 50257, 50257, 50257, 50257, 50257]\n"
     ]
    }
   ],
   "source": [
    "train_example = \"What is the worst customer service experience you have ever had? \"\n",
    "train_example += '<|endoftext|>'\n",
    "print(train_example)\n",
    "idx = enc.encode(train_example, allowed_special={\"<|endoftext|>\"})\n",
    "idx += [50257 for _ in range(CTX - len(idx))]\n",
    "print(idx)\n"
   ]
  },
  {
   "cell_type": "code",
   "execution_count": 31,
   "metadata": {},
   "outputs": [
    {
     "name": "stdout",
     "output_type": "stream",
     "text": [
      "torch.Size([14, 200])\n"
     ]
    }
   ],
   "source": [
    "# Make B x T tensor\n",
    "test_batch = torch.tensor([idx for i in range(BATCH_SIZE)]).to(device)\n",
    "print(test_batch.shape)"
   ]
  },
  {
   "cell_type": "code",
   "execution_count": 32,
   "metadata": {},
   "outputs": [
    {
     "name": "stdout",
     "output_type": "stream",
     "text": [
      "torch.Size([14, 200])\n"
     ]
    }
   ],
   "source": [
    "# Make the mask based on padding in tensor\n",
    "mask = [[0 if token == 50257 else 1 for token in tensor] for tensor in test_batch]\n",
    "mask = torch.tensor(mask)\n",
    "print(mask.shape)"
   ]
  },
  {
   "cell_type": "code",
   "execution_count": 42,
   "metadata": {},
   "outputs": [],
   "source": [
    "class TestEncoder(nn.Module):\n",
    "\n",
    "    def __init__(self):\n",
    "        super().__init__()\n",
    "        \n",
    "        self.token_embedding_table = nn.Embedding(VOCAB_SIZE, EMBED_DIM)\n",
    "        self.position_embedding_table = PositionalEncoding(EMBED_DIM, DROPOUT, CTX).to(device)\n",
    "        self.encoder = nn.Sequential(*[Encoder() for _ in range(NX)])\n",
    "\n",
    "    def forward(self, x, targets=None):\n",
    "        \n",
    "        idx = x[0]\n",
    "        mask = x[1]\n",
    "\n",
    "        tok_enb = self.token_embedding_table(idx) # B, T, C\n",
    "        pos_enb = self.position_embedding_table(torch.transpose(tok_enb, 0, 1).to(device)) # T, B, C\n",
    "        idx = torch.transpose(pos_enb, 1, 0).to(device) # B, T, C\n",
    "\n",
    "        # Feed into encoder\n",
    "        enc_out = self.encoder((idx, mask)) # -> B, T, C\n",
    "\n",
    "        return enc_out\n"
   ]
  },
  {
   "cell_type": "code",
   "execution_count": 44,
   "metadata": {},
   "outputs": [
    {
     "ename": "TypeError",
     "evalue": "layer_norm(): argument 'input' (position 1) must be Tensor, not tuple",
     "output_type": "error",
     "traceback": [
      "\u001b[1;31m---------------------------------------------------------------------------\u001b[0m",
      "\u001b[1;31mTypeError\u001b[0m                                 Traceback (most recent call last)",
      "Cell \u001b[1;32mIn[44], line 2\u001b[0m\n\u001b[0;32m      1\u001b[0m model \u001b[39m=\u001b[39m TestEncoder()\u001b[39m.\u001b[39mto(device)\n\u001b[1;32m----> 2\u001b[0m logits \u001b[39m=\u001b[39m model((test_batch, mask))\n",
      "File \u001b[1;32mc:\\Users\\Byron\\AppData\\Local\\Programs\\Python\\Python311\\Lib\\site-packages\\torch\\nn\\modules\\module.py:1501\u001b[0m, in \u001b[0;36mModule._call_impl\u001b[1;34m(self, *args, **kwargs)\u001b[0m\n\u001b[0;32m   1496\u001b[0m \u001b[39m# If we don't have any hooks, we want to skip the rest of the logic in\u001b[39;00m\n\u001b[0;32m   1497\u001b[0m \u001b[39m# this function, and just call forward.\u001b[39;00m\n\u001b[0;32m   1498\u001b[0m \u001b[39mif\u001b[39;00m \u001b[39mnot\u001b[39;00m (\u001b[39mself\u001b[39m\u001b[39m.\u001b[39m_backward_hooks \u001b[39mor\u001b[39;00m \u001b[39mself\u001b[39m\u001b[39m.\u001b[39m_backward_pre_hooks \u001b[39mor\u001b[39;00m \u001b[39mself\u001b[39m\u001b[39m.\u001b[39m_forward_hooks \u001b[39mor\u001b[39;00m \u001b[39mself\u001b[39m\u001b[39m.\u001b[39m_forward_pre_hooks\n\u001b[0;32m   1499\u001b[0m         \u001b[39mor\u001b[39;00m _global_backward_pre_hooks \u001b[39mor\u001b[39;00m _global_backward_hooks\n\u001b[0;32m   1500\u001b[0m         \u001b[39mor\u001b[39;00m _global_forward_hooks \u001b[39mor\u001b[39;00m _global_forward_pre_hooks):\n\u001b[1;32m-> 1501\u001b[0m     \u001b[39mreturn\u001b[39;00m forward_call(\u001b[39m*\u001b[39;49margs, \u001b[39m*\u001b[39;49m\u001b[39m*\u001b[39;49mkwargs)\n\u001b[0;32m   1502\u001b[0m \u001b[39m# Do not call functions when jit is used\u001b[39;00m\n\u001b[0;32m   1503\u001b[0m full_backward_hooks, non_full_backward_hooks \u001b[39m=\u001b[39m [], []\n",
      "Cell \u001b[1;32mIn[42], line 20\u001b[0m, in \u001b[0;36mTestEncoder.forward\u001b[1;34m(self, x, targets)\u001b[0m\n\u001b[0;32m     17\u001b[0m idx \u001b[39m=\u001b[39m torch\u001b[39m.\u001b[39mtranspose(pos_enb, \u001b[39m1\u001b[39m, \u001b[39m0\u001b[39m)\u001b[39m.\u001b[39mto(device) \u001b[39m# B, T, C\u001b[39;00m\n\u001b[0;32m     19\u001b[0m \u001b[39m# Feed into encoder\u001b[39;00m\n\u001b[1;32m---> 20\u001b[0m enc_out \u001b[39m=\u001b[39m \u001b[39mself\u001b[39;49m\u001b[39m.\u001b[39;49mencoder((idx, mask)) \u001b[39m# -> B, T, C\u001b[39;00m\n\u001b[0;32m     22\u001b[0m \u001b[39mreturn\u001b[39;00m enc_out\n",
      "File \u001b[1;32mc:\\Users\\Byron\\AppData\\Local\\Programs\\Python\\Python311\\Lib\\site-packages\\torch\\nn\\modules\\module.py:1501\u001b[0m, in \u001b[0;36mModule._call_impl\u001b[1;34m(self, *args, **kwargs)\u001b[0m\n\u001b[0;32m   1496\u001b[0m \u001b[39m# If we don't have any hooks, we want to skip the rest of the logic in\u001b[39;00m\n\u001b[0;32m   1497\u001b[0m \u001b[39m# this function, and just call forward.\u001b[39;00m\n\u001b[0;32m   1498\u001b[0m \u001b[39mif\u001b[39;00m \u001b[39mnot\u001b[39;00m (\u001b[39mself\u001b[39m\u001b[39m.\u001b[39m_backward_hooks \u001b[39mor\u001b[39;00m \u001b[39mself\u001b[39m\u001b[39m.\u001b[39m_backward_pre_hooks \u001b[39mor\u001b[39;00m \u001b[39mself\u001b[39m\u001b[39m.\u001b[39m_forward_hooks \u001b[39mor\u001b[39;00m \u001b[39mself\u001b[39m\u001b[39m.\u001b[39m_forward_pre_hooks\n\u001b[0;32m   1499\u001b[0m         \u001b[39mor\u001b[39;00m _global_backward_pre_hooks \u001b[39mor\u001b[39;00m _global_backward_hooks\n\u001b[0;32m   1500\u001b[0m         \u001b[39mor\u001b[39;00m _global_forward_hooks \u001b[39mor\u001b[39;00m _global_forward_pre_hooks):\n\u001b[1;32m-> 1501\u001b[0m     \u001b[39mreturn\u001b[39;00m forward_call(\u001b[39m*\u001b[39;49margs, \u001b[39m*\u001b[39;49m\u001b[39m*\u001b[39;49mkwargs)\n\u001b[0;32m   1502\u001b[0m \u001b[39m# Do not call functions when jit is used\u001b[39;00m\n\u001b[0;32m   1503\u001b[0m full_backward_hooks, non_full_backward_hooks \u001b[39m=\u001b[39m [], []\n",
      "File \u001b[1;32mc:\\Users\\Byron\\AppData\\Local\\Programs\\Python\\Python311\\Lib\\site-packages\\torch\\nn\\modules\\container.py:217\u001b[0m, in \u001b[0;36mSequential.forward\u001b[1;34m(self, input)\u001b[0m\n\u001b[0;32m    215\u001b[0m \u001b[39mdef\u001b[39;00m \u001b[39mforward\u001b[39m(\u001b[39mself\u001b[39m, \u001b[39minput\u001b[39m):\n\u001b[0;32m    216\u001b[0m     \u001b[39mfor\u001b[39;00m module \u001b[39min\u001b[39;00m \u001b[39mself\u001b[39m:\n\u001b[1;32m--> 217\u001b[0m         \u001b[39minput\u001b[39m \u001b[39m=\u001b[39m module(\u001b[39minput\u001b[39;49m)\n\u001b[0;32m    218\u001b[0m     \u001b[39mreturn\u001b[39;00m \u001b[39minput\u001b[39m\n",
      "File \u001b[1;32mc:\\Users\\Byron\\AppData\\Local\\Programs\\Python\\Python311\\Lib\\site-packages\\torch\\nn\\modules\\module.py:1501\u001b[0m, in \u001b[0;36mModule._call_impl\u001b[1;34m(self, *args, **kwargs)\u001b[0m\n\u001b[0;32m   1496\u001b[0m \u001b[39m# If we don't have any hooks, we want to skip the rest of the logic in\u001b[39;00m\n\u001b[0;32m   1497\u001b[0m \u001b[39m# this function, and just call forward.\u001b[39;00m\n\u001b[0;32m   1498\u001b[0m \u001b[39mif\u001b[39;00m \u001b[39mnot\u001b[39;00m (\u001b[39mself\u001b[39m\u001b[39m.\u001b[39m_backward_hooks \u001b[39mor\u001b[39;00m \u001b[39mself\u001b[39m\u001b[39m.\u001b[39m_backward_pre_hooks \u001b[39mor\u001b[39;00m \u001b[39mself\u001b[39m\u001b[39m.\u001b[39m_forward_hooks \u001b[39mor\u001b[39;00m \u001b[39mself\u001b[39m\u001b[39m.\u001b[39m_forward_pre_hooks\n\u001b[0;32m   1499\u001b[0m         \u001b[39mor\u001b[39;00m _global_backward_pre_hooks \u001b[39mor\u001b[39;00m _global_backward_hooks\n\u001b[0;32m   1500\u001b[0m         \u001b[39mor\u001b[39;00m _global_forward_hooks \u001b[39mor\u001b[39;00m _global_forward_pre_hooks):\n\u001b[1;32m-> 1501\u001b[0m     \u001b[39mreturn\u001b[39;00m forward_call(\u001b[39m*\u001b[39;49margs, \u001b[39m*\u001b[39;49m\u001b[39m*\u001b[39;49mkwargs)\n\u001b[0;32m   1502\u001b[0m \u001b[39m# Do not call functions when jit is used\u001b[39;00m\n\u001b[0;32m   1503\u001b[0m full_backward_hooks, non_full_backward_hooks \u001b[39m=\u001b[39m [], []\n",
      "File \u001b[1;32mc:\\Users\\Byron\\Documents\\mona_ai\\model.py:124\u001b[0m, in \u001b[0;36mEncoder.forward\u001b[1;34m(self, x)\u001b[0m\n\u001b[0;32m    122\u001b[0m \u001b[39mdef\u001b[39;00m \u001b[39mforward\u001b[39m(\u001b[39mself\u001b[39m, x):\n\u001b[1;32m--> 124\u001b[0m     x \u001b[39m=\u001b[39m \u001b[39mself\u001b[39m\u001b[39m.\u001b[39msa(\u001b[39mself\u001b[39;49m\u001b[39m.\u001b[39;49mln1(x)) \u001b[39m+\u001b[39m x\n\u001b[0;32m    125\u001b[0m     x \u001b[39m=\u001b[39m \u001b[39mself\u001b[39m\u001b[39m.\u001b[39mffwd(\u001b[39mself\u001b[39m\u001b[39m.\u001b[39mln2(x)) \u001b[39m+\u001b[39m x\n\u001b[0;32m    126\u001b[0m     \u001b[39mreturn\u001b[39;00m x\n",
      "File \u001b[1;32mc:\\Users\\Byron\\AppData\\Local\\Programs\\Python\\Python311\\Lib\\site-packages\\torch\\nn\\modules\\module.py:1501\u001b[0m, in \u001b[0;36mModule._call_impl\u001b[1;34m(self, *args, **kwargs)\u001b[0m\n\u001b[0;32m   1496\u001b[0m \u001b[39m# If we don't have any hooks, we want to skip the rest of the logic in\u001b[39;00m\n\u001b[0;32m   1497\u001b[0m \u001b[39m# this function, and just call forward.\u001b[39;00m\n\u001b[0;32m   1498\u001b[0m \u001b[39mif\u001b[39;00m \u001b[39mnot\u001b[39;00m (\u001b[39mself\u001b[39m\u001b[39m.\u001b[39m_backward_hooks \u001b[39mor\u001b[39;00m \u001b[39mself\u001b[39m\u001b[39m.\u001b[39m_backward_pre_hooks \u001b[39mor\u001b[39;00m \u001b[39mself\u001b[39m\u001b[39m.\u001b[39m_forward_hooks \u001b[39mor\u001b[39;00m \u001b[39mself\u001b[39m\u001b[39m.\u001b[39m_forward_pre_hooks\n\u001b[0;32m   1499\u001b[0m         \u001b[39mor\u001b[39;00m _global_backward_pre_hooks \u001b[39mor\u001b[39;00m _global_backward_hooks\n\u001b[0;32m   1500\u001b[0m         \u001b[39mor\u001b[39;00m _global_forward_hooks \u001b[39mor\u001b[39;00m _global_forward_pre_hooks):\n\u001b[1;32m-> 1501\u001b[0m     \u001b[39mreturn\u001b[39;00m forward_call(\u001b[39m*\u001b[39;49margs, \u001b[39m*\u001b[39;49m\u001b[39m*\u001b[39;49mkwargs)\n\u001b[0;32m   1502\u001b[0m \u001b[39m# Do not call functions when jit is used\u001b[39;00m\n\u001b[0;32m   1503\u001b[0m full_backward_hooks, non_full_backward_hooks \u001b[39m=\u001b[39m [], []\n",
      "File \u001b[1;32mc:\\Users\\Byron\\AppData\\Local\\Programs\\Python\\Python311\\Lib\\site-packages\\torch\\nn\\modules\\normalization.py:190\u001b[0m, in \u001b[0;36mLayerNorm.forward\u001b[1;34m(self, input)\u001b[0m\n\u001b[0;32m    189\u001b[0m \u001b[39mdef\u001b[39;00m \u001b[39mforward\u001b[39m(\u001b[39mself\u001b[39m, \u001b[39minput\u001b[39m: Tensor) \u001b[39m-\u001b[39m\u001b[39m>\u001b[39m Tensor:\n\u001b[1;32m--> 190\u001b[0m     \u001b[39mreturn\u001b[39;00m F\u001b[39m.\u001b[39;49mlayer_norm(\n\u001b[0;32m    191\u001b[0m         \u001b[39minput\u001b[39;49m, \u001b[39mself\u001b[39;49m\u001b[39m.\u001b[39;49mnormalized_shape, \u001b[39mself\u001b[39;49m\u001b[39m.\u001b[39;49mweight, \u001b[39mself\u001b[39;49m\u001b[39m.\u001b[39;49mbias, \u001b[39mself\u001b[39;49m\u001b[39m.\u001b[39;49meps)\n",
      "File \u001b[1;32mc:\\Users\\Byron\\AppData\\Local\\Programs\\Python\\Python311\\Lib\\site-packages\\torch\\nn\\functional.py:2515\u001b[0m, in \u001b[0;36mlayer_norm\u001b[1;34m(input, normalized_shape, weight, bias, eps)\u001b[0m\n\u001b[0;32m   2511\u001b[0m \u001b[39mif\u001b[39;00m has_torch_function_variadic(\u001b[39minput\u001b[39m, weight, bias):\n\u001b[0;32m   2512\u001b[0m     \u001b[39mreturn\u001b[39;00m handle_torch_function(\n\u001b[0;32m   2513\u001b[0m         layer_norm, (\u001b[39minput\u001b[39m, weight, bias), \u001b[39minput\u001b[39m, normalized_shape, weight\u001b[39m=\u001b[39mweight, bias\u001b[39m=\u001b[39mbias, eps\u001b[39m=\u001b[39meps\n\u001b[0;32m   2514\u001b[0m     )\n\u001b[1;32m-> 2515\u001b[0m \u001b[39mreturn\u001b[39;00m torch\u001b[39m.\u001b[39;49mlayer_norm(\u001b[39minput\u001b[39;49m, normalized_shape, weight, bias, eps, torch\u001b[39m.\u001b[39;49mbackends\u001b[39m.\u001b[39;49mcudnn\u001b[39m.\u001b[39;49menabled)\n",
      "\u001b[1;31mTypeError\u001b[0m: layer_norm(): argument 'input' (position 1) must be Tensor, not tuple"
     ]
    }
   ],
   "source": [
    "model = TestEncoder().to(device)\n",
    "logits = model((test_batch, mask))"
   ]
  },
  {
   "cell_type": "code",
   "execution_count": 25,
   "metadata": {},
   "outputs": [
    {
     "data": {
      "text/plain": [
       "tensor([[[-1.4836e+00,  2.9702e-01, -1.0832e+00,  ...,  1.6547e+00,\n",
       "          -3.9859e+00,  4.0618e-03],\n",
       "         [-5.6330e-02, -8.7759e-01,  8.0295e-01,  ...,  3.2260e-01,\n",
       "          -9.2082e-01,  2.6529e+00],\n",
       "         [ 2.3402e-01, -1.3602e-01,  1.3140e+00,  ...,  2.4626e-01,\n",
       "          -2.9459e+00,  3.2325e+00],\n",
       "         ...,\n",
       "         [ 1.0202e+00,  2.8104e-01, -6.5004e-01,  ...,  2.0826e+00,\n",
       "          -6.8240e-01,  1.1810e-01],\n",
       "         [-6.9696e-01, -2.9717e+00, -2.0448e+00,  ..., -4.4882e-01,\n",
       "          -5.0821e-01, -2.2952e-01],\n",
       "         [-1.3400e+00, -3.1098e+00, -3.0651e+00,  ...,  1.4762e+00,\n",
       "          -6.1024e-01,  1.5624e+00]],\n",
       "\n",
       "        [[-7.2791e-02,  1.5076e+00, -9.9834e-02,  ...,  5.4619e-01,\n",
       "          -3.1774e+00, -1.3983e+00],\n",
       "         [ 5.7119e-01, -6.0368e-01,  1.4086e+00,  ...,  9.9300e-01,\n",
       "          -2.1463e+00,  1.9085e+00],\n",
       "         [-2.9002e+00,  1.3395e-02, -4.1856e-01,  ..., -1.4463e-01,\n",
       "          -2.6331e+00,  3.9858e+00],\n",
       "         ...,\n",
       "         [ 3.6525e-01, -2.1597e+00, -3.9216e-01,  ..., -3.3910e-01,\n",
       "           1.3715e-01, -3.3936e-01],\n",
       "         [-7.9070e-01, -3.6457e+00, -2.2872e+00,  ...,  2.4189e-01,\n",
       "          -7.0091e-01, -2.3686e-01],\n",
       "         [-4.8246e-01, -3.4202e+00, -3.1373e+00,  ...,  1.6720e+00,\n",
       "          -5.6357e-01,  3.2045e-01]],\n",
       "\n",
       "        [[-1.9633e+00, -1.0336e+00, -7.3807e-01,  ...,  1.8181e+00,\n",
       "          -2.1348e+00, -6.5463e-01],\n",
       "         [ 4.8196e-01, -1.4573e+00,  1.1462e-02,  ...,  9.2102e-02,\n",
       "          -3.0806e+00,  4.5609e+00],\n",
       "         [-4.1303e+00, -1.5468e+00, -1.1888e+00,  ..., -1.1210e+00,\n",
       "          -1.7259e+00,  3.4279e+00],\n",
       "         ...,\n",
       "         [ 1.6532e+00, -2.1277e+00,  8.2492e-02,  ...,  2.3420e+00,\n",
       "          -6.0513e-01, -1.7465e+00],\n",
       "         [-1.0187e+00, -3.2396e+00, -1.1264e+00,  ...,  1.5265e+00,\n",
       "          -2.0070e+00, -8.6863e-01],\n",
       "         [-1.6278e+00, -2.6744e+00, -2.7299e+00,  ..., -6.6151e-01,\n",
       "          -4.8884e-01,  7.8963e-01]],\n",
       "\n",
       "        ...,\n",
       "\n",
       "        [[-2.2284e+00,  5.3716e-01, -3.0950e-01,  ..., -2.1467e-01,\n",
       "          -2.9612e+00,  4.3188e-01],\n",
       "         [ 6.5719e-01, -1.2859e+00,  6.7920e-01,  ..., -5.3793e-01,\n",
       "          -3.2702e+00,  3.7765e-01],\n",
       "         [-3.4297e+00, -1.4064e+00,  1.1226e+00,  ...,  5.7899e-01,\n",
       "          -2.9694e+00,  4.7775e+00],\n",
       "         ...,\n",
       "         [ 3.9402e-01,  7.8053e-01, -8.7034e-01,  ...,  1.1511e+00,\n",
       "          -5.2680e-01,  1.0113e+00],\n",
       "         [-1.6513e+00, -2.7522e+00, -7.5495e-01,  ...,  1.9184e-01,\n",
       "          -2.9296e-01, -3.4264e-01],\n",
       "         [-1.8705e+00, -3.5658e+00, -2.4094e+00,  ...,  2.1594e+00,\n",
       "          -2.5335e+00,  3.2436e-01]],\n",
       "\n",
       "        [[-2.0196e+00,  1.5163e-02, -1.2513e+00,  ..., -3.1207e-01,\n",
       "          -3.6985e+00,  1.0085e+00],\n",
       "         [ 3.7732e-01,  1.7281e-02, -4.5653e-01,  ..., -2.5265e-01,\n",
       "          -1.6760e+00,  3.3460e+00],\n",
       "         [-3.6531e+00,  2.0899e-01,  1.3434e+00,  ..., -1.8952e+00,\n",
       "          -2.0444e+00,  3.3921e+00],\n",
       "         ...,\n",
       "         [-2.0035e-01, -2.4915e+00, -1.3409e-01,  ...,  1.2914e+00,\n",
       "          -3.4655e-01,  9.4001e-01],\n",
       "         [ 2.2662e-01, -2.4745e+00, -2.0228e+00,  ...,  2.2151e+00,\n",
       "          -2.0589e-01, -4.0897e-01],\n",
       "         [-1.5874e+00, -2.6764e+00, -2.7056e+00,  ...,  9.4864e-01,\n",
       "           7.3581e-01,  8.2164e-01]],\n",
       "\n",
       "        [[-1.9021e+00,  3.5069e-01, -9.2269e-01,  ...,  1.1562e+00,\n",
       "          -2.0395e+00,  1.2876e+00],\n",
       "         [ 8.9983e-01, -1.5885e+00,  4.9376e-01,  ...,  1.3517e-01,\n",
       "          -2.6878e+00,  4.5655e+00],\n",
       "         [-2.9822e+00, -1.3936e+00, -7.0024e-01,  ...,  2.7730e-01,\n",
       "          -1.4566e+00,  3.5181e+00],\n",
       "         ...,\n",
       "         [ 5.8463e-01, -3.2111e+00, -9.1561e-01,  ...,  1.5638e+00,\n",
       "          -4.9729e-01, -7.8506e-02],\n",
       "         [-9.3348e-01, -3.5296e+00, -1.0221e+00,  ...,  1.6790e-01,\n",
       "          -9.6975e-01, -6.6444e-01],\n",
       "         [ 1.1448e-01,  1.3435e+00, -2.2529e+00,  ...,  1.8234e+00,\n",
       "          -8.0132e-01, -1.9660e-01]]], grad_fn=<AddBackward0>)"
      ]
     },
     "execution_count": 25,
     "metadata": {},
     "output_type": "execute_result"
    }
   ],
   "source": [
    "cunt.shape\n",
    "cunt"
   ]
  }
 ],
 "metadata": {
  "kernelspec": {
   "display_name": "Python 3",
   "language": "python",
   "name": "python3"
  },
  "language_info": {
   "codemirror_mode": {
    "name": "ipython",
    "version": 3
   },
   "file_extension": ".py",
   "mimetype": "text/x-python",
   "name": "python",
   "nbconvert_exporter": "python",
   "pygments_lexer": "ipython3",
   "version": "3.11.4"
  },
  "orig_nbformat": 4
 },
 "nbformat": 4,
 "nbformat_minor": 2
}
