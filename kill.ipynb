{
 "cells": [
  {
   "cell_type": "code",
   "execution_count": 1,
   "metadata": {},
   "outputs": [
    {
     "name": "stdout",
     "output_type": "stream",
     "text": [
      "5057\n"
     ]
    }
   ],
   "source": [
    "import tiktoken\n",
    "import torch\n",
    "enc = tiktoken.get_encoding(\"gpt2\")\n",
    "\n",
    "with open('monatxt.txt', 'r', encoding='utf-8') as f:\n",
    "    text = f.read()\n",
    "\n",
    "    # set up encoding\n",
    "    a = enc.encode(text) \n",
    "\n",
    "print(len(a))"
   ]
  },
  {
   "cell_type": "code",
   "execution_count": 13,
   "metadata": {},
   "outputs": [],
   "source": [
    "with open('monatxt.txt', 'r') as f:\n",
    "    text = f.read()\n",
    "text = text.split('\\n')\n",
    "modified = ''\n",
    "with open('foo.txt', 'w') as f:\n",
    "\n",
    "    for line in text:\n",
    "        line = line.replace('Mona: ', '')\n",
    "        line = line.replace('Icon Dialogue', '')\n",
    "        f.write(line + '\\n')\n",
    "\n",
    "# THINGS TO THINK ABOUT WHEN POLISHING DATA: \n",
    "# mora -> money?\n",
    "# format things in monatxt to Q/A\n",
    "# adding the |endoftext| token to all responses (do we need a start token??)\n",
    "# what do we do with the miscellaneous text that has absolutely no context (ex: Low HP\t My vision is clouded...)\n",
    "# how to deal with dialogue when multiple characters are talking?\n",
    "# the context of some of the character dialogues is WAY too big or specific ... prune those examples?\n",
    "# how do we get a \"large range\" of prompts? \n",
    "    # types of prompts: generation,openQA,closed QA,brainstorming,chat,rewriting,summarization,classification,extraction,or other\n",
    "# how do we collect the data set of plain + few shot tasks? \n",
    "    # look around in our data\n",
    "    # good answers from c.ai\n",
    "# how much should we focus on instructional prompts / responses? "
   ]
  },
  {
   "cell_type": "code",
   "execution_count": 2,
   "metadata": {},
   "outputs": [],
   "source": [
    "import numpy as np\n",
    "import os\n",
    "train_data = np.memmap(os.path.join('./data', 'train.bin'), dtype=np.uint16, mode='r')"
   ]
  },
  {
   "cell_type": "code",
   "execution_count": 3,
   "metadata": {},
   "outputs": [],
   "source": [
    "a = train_data[-10000:-1]"
   ]
  },
  {
   "cell_type": "code",
   "execution_count": 3,
   "metadata": {},
   "outputs": [
    {
     "name": "stdout",
     "output_type": "stream",
     "text": [
      "<|endoftext|>\n",
      "50256\n"
     ]
    }
   ],
   "source": [
    "print(enc.decode([enc.eot_token]))\n",
    "enc.encode('aeaege<|endoftext|>', allowed_special={'<|endoftext|>'})\n",
    "print(enc.eot_token)\n"
   ]
  },
  {
   "cell_type": "code",
   "execution_count": 4,
   "metadata": {},
   "outputs": [],
   "source": [
    "b = torch.from_numpy(a.astype(np.int64)).tolist()"
   ]
  },
  {
   "cell_type": "code",
   "execution_count": 5,
   "metadata": {},
   "outputs": [
    {
     "data": {
      "text/plain": [
       "4"
      ]
     },
     "execution_count": 5,
     "metadata": {},
     "output_type": "execute_result"
    }
   ],
   "source": [
    "b.count(50256)"
   ]
  }
 ],
 "metadata": {
  "kernelspec": {
   "display_name": "Python 3",
   "language": "python",
   "name": "python3"
  },
  "language_info": {
   "codemirror_mode": {
    "name": "ipython",
    "version": 3
   },
   "file_extension": ".py",
   "mimetype": "text/x-python",
   "name": "python",
   "nbconvert_exporter": "python",
   "pygments_lexer": "ipython3",
   "version": "3.11.4"
  },
  "orig_nbformat": 4
 },
 "nbformat": 4,
 "nbformat_minor": 2
}
