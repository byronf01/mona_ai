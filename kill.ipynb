{
 "cells": [
  {
   "cell_type": "code",
   "execution_count": 2,
   "metadata": {},
   "outputs": [
    {
     "name": "stdout",
     "output_type": "stream",
     "text": [
      "2868\n"
     ]
    }
   ],
   "source": [
    "import tiktoken\n",
    "enc = tiktoken.get_encoding(\"gpt2\")\n",
    "\n",
    "with open('monatxt.txt', 'r', encoding='utf-8') as f:\n",
    "    text = f.read()\n",
    "\n",
    "    # set up encoding\n",
    "    a = enc.encode(text) \n",
    "\n",
    "print(len(a))"
   ]
  },
  {
   "cell_type": "code",
   "execution_count": 13,
   "metadata": {},
   "outputs": [],
   "source": [
    "with open('monatxt.txt', 'r') as f:\n",
    "    text = f.read()\n",
    "text = text.split('\\n')\n",
    "modified = ''\n",
    "with open('foo.txt', 'w') as f:\n",
    "\n",
    "    for line in text:\n",
    "        line = line.replace('Mona: ', '')\n",
    "        line = line.replace('Icon Dialogue', '')\n",
    "        f.write(line + '\\n')\n",
    "\n",
    "# THINGS TO THINK ABOUT WHEN POLISHING DATA: \n",
    "# mora -> money?\n",
    "# format things in monatxt to Q/A\n",
    "# adding the |endoftext| token to all responses (do we need a start token??)\n",
    "# what do we do with the miscellaneous text that has absolutely no context (ex: Low HP\t My vision is clouded...)\n",
    "# how to deal with dialogue when multiple characters are talking?\n",
    "# the context of some of the character dialogues is WAY too big or specific ... prune those examples?\n",
    "# how do we get a \"large range\" of prompts? \n",
    "    # types of prompts: generation,openQA,closed QA,brainstorming,chat,rewriting,summarization,classification,extraction,or other\n",
    "# how do we collect the data set of plain + few shot tasks? \n",
    "    # look around in our data\n",
    "    # good answers from c.ai\n",
    "# how much should we focus on instructional prompts / responses? "
   ]
  },
  {
   "cell_type": "code",
   "execution_count": 14,
   "metadata": {},
   "outputs": [],
   "source": [
    "import numpy as np\n",
    "import os\n",
    "train_data = np.memmap(os.path.join('./data', 'train.bin'), dtype=np.uint16, mode='r')"
   ]
  },
  {
   "cell_type": "code",
   "execution_count": 41,
   "metadata": {},
   "outputs": [
    {
     "data": {
      "text/plain": [
       "'Didanodon\" without further discussion.[1]\\n\\nPaleontologists began finding better remains of hadrosaurids from the same rocks in the 1910s, in what is now known as the late Campanian-age (Upper Cretaceous) Dinosaur Park Formation. Lambe assigned two new skulls to T. marginatus, and based on the new information, coined the genus Stephanosaurus for the species in 1914.[3] Unfortunately, there was very little to associate the skulls with'"
      ]
     },
     "execution_count": 41,
     "metadata": {},
     "output_type": "execute_result"
    }
   ],
   "source": [
    "a = train_data[333333:333433]\n",
    "enc.decode(a)"
   ]
  },
  {
   "cell_type": "code",
   "execution_count": 38,
   "metadata": {},
   "outputs": [
    {
     "name": "stdout",
     "output_type": "stream",
     "text": [
      "<|endoftext|>\n"
     ]
    },
    {
     "data": {
      "text/plain": [
       "[3609, 3609, 469, 50256]"
      ]
     },
     "execution_count": 38,
     "metadata": {},
     "output_type": "execute_result"
    }
   ],
   "source": [
    "print(enc.decode([enc.eot_token]))\n",
    "enc.encode('aeaege<|endoftext|>', allowed_special={'<|endoftext|>'})\n"
   ]
  }
 ],
 "metadata": {
  "kernelspec": {
   "display_name": "Python 3",
   "language": "python",
   "name": "python3"
  },
  "language_info": {
   "codemirror_mode": {
    "name": "ipython",
    "version": 3
   },
   "file_extension": ".py",
   "mimetype": "text/x-python",
   "name": "python",
   "nbconvert_exporter": "python",
   "pygments_lexer": "ipython3",
   "version": "3.11.4"
  },
  "orig_nbformat": 4
 },
 "nbformat": 4,
 "nbformat_minor": 2
}
