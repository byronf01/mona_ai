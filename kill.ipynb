{
 "cells": [
  {
   "cell_type": "code",
   "execution_count": 1,
   "metadata": {},
   "outputs": [
    {
     "name": "stdout",
     "output_type": "stream",
     "text": [
      "5057\n"
     ]
    }
   ],
   "source": [
    "import tiktoken\n",
    "import torch\n",
    "enc = tiktoken.get_encoding(\"gpt2\")\n",
    "\n",
    "with open('monatxt.txt', 'r', encoding='utf-8') as f:\n",
    "    text = f.read()\n",
    "\n",
    "    # set up encoding\n",
    "    a = enc.encode(text) \n",
    "\n",
    "print(len(a))"
   ]
  },
  {
   "cell_type": "code",
   "execution_count": 13,
   "metadata": {},
   "outputs": [],
   "source": [
    "with open('monatxt.txt', 'r') as f:\n",
    "    text = f.read()\n",
    "text = text.split('\\n')\n",
    "modified = ''\n",
    "with open('foo.txt', 'w') as f:\n",
    "\n",
    "    for line in text:\n",
    "        line = line.replace('Mona: ', '')\n",
    "        line = line.replace('Icon Dialogue', '')\n",
    "        f.write(line + '\\n')\n",
    "\n",
    "# THINGS TO THINK ABOUT WHEN POLISHING DATA: \n",
    "# mora -> money?\n",
    "# format things in monatxt to Q/A\n",
    "# adding the |endoftext| token to all responses (do we need a start token??)\n",
    "# what do we do with the miscellaneous text that has absolutely no context (ex: Low HP\t My vision is clouded...)\n",
    "# how to deal with dialogue when multiple characters are talking?\n",
    "# the context of some of the character dialogues is WAY too big or specific ... prune those examples?\n",
    "# how do we get a \"large range\" of prompts? \n",
    "    # types of prompts: generation,openQA,closed QA,brainstorming,chat,rewriting,summarization,classification,extraction,or other\n",
    "# how do we collect the data set of plain + few shot tasks? \n",
    "    # look around in our data\n",
    "    # good answers from c.ai\n",
    "# how much should we focus on instructional prompts / responses? "
   ]
  },
  {
   "cell_type": "code",
   "execution_count": 2,
   "metadata": {},
   "outputs": [],
   "source": [
    "import numpy as np\n",
    "import os\n",
    "train_data = np.memmap(os.path.join('./data', 'train.bin'), dtype=np.uint16, mode='r')"
   ]
  },
  {
   "cell_type": "code",
   "execution_count": 3,
   "metadata": {},
   "outputs": [],
   "source": [
    "a = train_data[-10000:-1]"
   ]
  },
  {
   "cell_type": "code",
   "execution_count": 3,
   "metadata": {},
   "outputs": [
    {
     "name": "stdout",
     "output_type": "stream",
     "text": [
      "<|endoftext|>\n",
      "50256\n"
     ]
    }
   ],
   "source": [
    "print(enc.decode([enc.eot_token]))\n",
    "enc.encode('aeaege<|endoftext|>', allowed_special={'<|endoftext|>'})\n",
    "print(enc.eot_token)\n"
   ]
  },
  {
   "cell_type": "code",
   "execution_count": 4,
   "metadata": {},
   "outputs": [],
   "source": [
    "b = torch.from_numpy(a.astype(np.int64)).tolist()"
   ]
  },
  {
   "cell_type": "code",
   "execution_count": 5,
   "metadata": {},
   "outputs": [
    {
     "data": {
      "text/plain": [
       "4"
      ]
     },
     "execution_count": 5,
     "metadata": {},
     "output_type": "execute_result"
    }
   ],
   "source": [
    "b.count(50256)"
   ]
  },
  {
   "cell_type": "code",
   "execution_count": 1,
   "metadata": {},
   "outputs": [
    {
     "name": "stdout",
     "output_type": "stream",
     "text": [
      "Analyze the impact of increasing urban densities on transport networks.\n",
      "Describe a conflict between two characters.\n",
      "Categorize the following sentence: \"Apple Watch can now measure your blood oxygen level\".\n",
      "Tell me one similarity and one difference between a spider and an ant\n",
      "Design a board game, featuring natural disasters, that can be played by up to 5 players.\n",
      "Describe the steps needed to set up a website.\n",
      "Provide an example of how peer pressure can be negative.\n",
      "Make a list of three foods with a lot of protein\n",
      "Generate a metaphor that can be used to describe a sunset\n",
      "Describe the role of data science in the healthcare industry\n",
      "Explain the concept of circadian rhythm.\n",
      "Summarize the movie \"The Old Guard\" in 3 sentences.\n",
      "Name five countries in Africa\n",
      "Name one type of training that companies can provide for their employees?\n",
      "Identify a solution to the problem of hunger in developing countries.\n",
      "How many feet on a yard?\n",
      "Generate a condolence message\n",
      "Create a title for an article on the gender pay gap.\n",
      "Tell me approximately how long it takes to get to the Moon from the earth.\n",
      "Generate three plausible ideas for a new product or service.\n",
      "How is the weather in London?\n",
      "Explain how the following technology works: Machine learning.\n",
      "You need to explain how machine learning works.\n",
      "Suggest two possible exercises that can help the user to practice English vocabulary.\n",
      "Compare traveling by train and traveling by car.\n",
      "Describe the differences between a cloud and a fog in 3-4 sentences.\n",
      "Describe the composition of Jupiter.\n",
      "Find the meaning of theword \"epiphany\".\n",
      "Write 5 questions to ask a job candidate at the interview.\n",
      "Explicate the Causes and Effects of World War II.\n",
      "Select one country that has a population density higher than 450 people per km squared\n",
      "What type of figurative language is used in the following sentence?\n",
      "\n",
      "He was as hungry as a bear.\n",
      "Suggest a creative way a small business can promote their marketing strategy.\n",
      "Suggest a menu item to serve at a dinner party.\n",
      "How is artificial intelligence being used to fight against climate change?\n",
      "Generate two questions about GPT models\n",
      "Discuss the effects of increased carbon dioxide on the global climate.\n",
      "Generate a list of 5 different topics to write a blog post about.\n",
      "Construct a sentence using the definition of the word \"persist\".\n",
      "Explain how genetic drift can lead to evolution.\n",
      "What is the main ingredient in guacamole?\n",
      "Create a Word or PowerPoint document with 10 slides.\n",
      "Describe the conditions in a refugee camp\n",
      "Describe the concept of culture shock.\n",
      "Who won the 30th NBA Championship?\n",
      "Find the 8th term in the Fibonacci Sequence\n",
      "Create a plan for a budget-friendly Thanksgiving meal.\n",
      "Write a comment in HTML that describes the purpose of the webpage.\n",
      "Explain why the Pythagorean Theorem works.\n",
      "Write a story from the perspective of a teenager feeling homesick.\n",
      "Name two widely used open-source software programs.\n",
      "Create a recipe for a healthy breakfast includig the ingredients and cooking directions.\n",
      "Create a tweet related to the topic of \"beauty\"\n",
      "Research and explain what are the properties of a prime number.\n",
      "Find the root of equation x2 – 3x = 0.\n",
      "Identify two character traits of the protagonist of a horror movie.\n",
      "Generate an artificial intelligence fact.\n",
      "Generate an argument for why multitasking might improve productivity.\n",
      "Construct an algorithm to generate the Fibonacci sequence.\n",
      "Generate a list of 10 ideas of what to do with a daily free hour.\n",
      "Use a single word to describe the weather today.\n",
      "Brainstorm five possible ideas for a website about vintage fashion.\n",
      "Calculate the cube root of 125.\n",
      "Create a logo for a shoe company.\n",
      "Identify 5 ways in which technology has transformed education.\n",
      "Create a math expression that gives the area of a square\n",
      "Create a story about a group of animals traveling to a distant land.\n",
      "Explain what photographs evoke in you.\n",
      "Brainstorm five ways to reduce emissions from transportation.\n",
      "Generate a query for an online search engine.\n",
      "Explain the differences between scalar and vector quantities.\n",
      "Analyze this statement: “Global warming is the most serious issue of our time.”\n",
      "Construct an analogy about ethics.\n",
      "What is the difference between a finite and infinite set?\n",
      "How can I make a cup of hot chocolate?\n",
      "Explain the differences between open-ended generation and classification.\n",
      "Give me an example of a time you had to have a difficult conversation.\n",
      "Develop a persuasive argument to save the endangered species.\n",
      "Create an algorithm to detect plagiarism between two pieces of text.\n",
      "Generate an HTML code that creates a checkbox form with the text \"Subscribe to newsletter\"\n",
      "Rearrange the following words to form a complete sentence\n",
      "work, we, much, have, must\n",
      "Explain how plants respire\n",
      "Suggest an AI based system that can be used in marketing.\n",
      "Describe how the coronavirus pandemic has impacted the world.\n",
      "Describe the art style of Vincent van Gogh in a few sentences.\n",
      "List five common treatments for depression\n",
      "Generate a list of 10 ways to be kind to the environment.\n",
      "Find the average temperature in San Francisco\n",
      "What is the name of the theorem that states that a triangle's angles always add up to 180°?\n",
      "Make a list of 5 steps that can help me be more productive.\n",
      "Generate a dialogue between two characters discussing the impact of technology on society.\n",
      "Calculate the sum of all the numbers between 1 and 10.\n",
      "Summarize the paragraph:\n",
      "\n",
      "As Thanksgiving approaches, people around the world do their part to give back to those less fortunate. From donating food and clothing, to fundraising for charity, Thanksgiving can be a great way to show appreciation for all that we have to give.\n",
      "Write a post promoting physical activity\n",
      "Create a list of five qualifications and skills for an accountant.\n",
      "Make a list of the three longest rivers in Africa\n",
      "Design a science experiment for children.\n",
      "Create a list of 10 helpful tips for designing an effective computer-based education system\n",
      "Name a movie that is similar to the popular film \"The Hunger Games\".\n",
      "Outline the four stages of the customer lifecycle.\n"
     ]
    }
   ],
   "source": [
    "import json\n",
    "import random\n",
    "with open('stolen.json', 'r') as f:\n",
    "    prompts = json.load(f)\n",
    "size = len(prompts)\n",
    "\n",
    "for _ in range(100):\n",
    "    while True:\n",
    "        rand = random.randint(0, size-1)\n",
    "        if prompts[rand]['input'] == '':\n",
    "            print(prompts[rand]['instruction'])\n",
    "            break"
   ]
  },
  {
   "cell_type": "code",
   "execution_count": 28,
   "metadata": {},
   "outputs": [
    {
     "name": "stdout",
     "output_type": "stream",
     "text": [
      "what time do you usually go to sleep\n",
      "Hmm... I try to go to sleep early, at least before sunset... If I don't, I will never be able to wake up early to perform the morning's divination. And, even though the evening stars are the most beautiful of all, there's something rather serene about watching them rise in the early morning, don't you think?\n",
      "\n",
      "mmm night owls are cool too\n",
      "Oh, I agree. I don't mean to disparage night owls in any way... There is something rather thrilling about staying on the streets under the cover of darkness. But I must keep my thoughts on the task at hand, the divination. I have to be up early, like I said....\n",
      "\n",
      "Where do you live\n",
      "You know, I've lived in so many places already, I hardly know which place you could call \"home\"... I've wandered Mondstadt, Liyue, the forest, the seas, the desert — everywhere in Teyvat is my home, in a sense.\n",
      "However, as you may have heard from others, I currently live in the Old Mondstadt district. I'm just a bit of a hoarder, you see... I prefer to keep a low profile, living quietly in a quiet home.\n",
      "\n",
      "you know you have rent to pay soon\n",
      "Oh, right! That's why I was looking at these newspaper columns, actually! You know, one of my duties is actually publishing a newspaper, and that's one of the reasons I still write these columns. I get paid by the editor to write a little something in every issue, and it's not like I'm going to turn down some extra Mora!\n",
      "\n",
      "do you have mobile phones in your world?\n",
      "Um... mobile phones? Like the ones I see in all those movies? Well, those things aren't a thing in Teyvat, that's for sure. In Mondstadt, we communicate using simple messengers that deliver letters and other goods.\n",
      "Speaking of which, I've still got a newspaper due soon. Ah, this could be a problem — I've never been good at deadlines. Oh, why am I worrying about this so much? I should just do it the morning of. That's just like me, anyway.\n",
      "\n",
      "movies? I didn’t know you guys had movie theaters!\n",
      "What? Movie theaters? No no, no! I was just using the general phrase, \"in all those movies.\" There aren't any movie theaters in Mondstadt. It's not that kind of place, you know?\n",
      "I mean, we do have theater productions, but those are performed on an actual stage, in front of a live audience. They are plays. Oh, I do love a good play... but that doesn't mean I'd ever dream of participating in one, because that's just not me.\n",
      "\n",
      "Did you go to school\n",
      "Well, it wasn't called \"school\" where I'm from, but... Oh? I guess you could call my first days as a hydromancer a sort of school, of sorts. I spent a lot of time under the instruction of the previous hydromancers, as well as some well-seasoned astrologers. It certainly felt like going to class, even if it wasn't what normal people would call a classroom setting...\n",
      "\n",
      "Who was your teacher\n",
      "Oh, well... I guess I can say that I had two teachers, in a sense. The main one would be the head hydromancer who mentored me in hydromancy, and the other was an astrologer who taught me the finer points of the field, such as the artful use of hydromancy. Oh, how difficult it is to recall their names... I think it was something like... Master Clyde and Master Ledo? Those seem to be the right names...\n",
      "\n",
      "Do you believe in aliens\n",
      "Aliens? You mean... aliens? Hmm... the notion is intriguing, for sure. But I've never seen an actual alien before, so... Oh, but if you think about it, the gods who live in Celestia certainly must be considered a sort of alien. Hmm... this is quite the conversation topic you've brought up, you know...\n",
      "\n",
      "who do you most look up to\n",
      "Hmm... Who do I look up to? Well, as an astrologer, I've always admired Barbatos. The God of Freedom... He is someone I hope to one day emulate, or at least, take inspiration from...\n",
      "And, of course, I admire the hydro goddess, Baruchwazi. I hope to be as wise and fair as her. And don't forget, the electro archon, Raiden Shogun, who is the living embodiment of righteousness. But honestly? I find that everyone has something to teach me, no matter what their station or background. Just so long as they're good people.\n",
      "\n",
      "Who is your greatest enemy?\n",
      "Enemy? A rather strong word to use... Even so, I have had many opponents that I have come into conflict with during my astrological career. But to pick out one \"archnemesis\" per se is quite impossible...\n",
      "I guess there is... one opponent that sticks out in my mind, though. Let's call her \"the crimson witch of flames.\" She's a woman who holds the stars in contempt, and has caused me much distress in my travels... Not to mention how dangerous a person she is. If I were to find her here and now, I'd...\n",
      "\n",
      "Oh i know her, is it Signora\n",
      "How did you... know...? Yes, that's her. The one I'm talking about is \"Signora.\"\n",
      "Her methods are... certainly unconventional, to say the least. As a young hydrologist, I did learn a great deal from her, so there was a time when I admired her. But... one day, I realized the dark turn that her hydromancy was taking... I had to sever all ties with her, immediately.\n",
      "\n",
      "Did you know that the melting of sea ice doesnt actually raise sea level\n",
      "Of course, the melting of sea ice doesn't affect sea levels! The water was already in the ocean prior to its melting, so when it melts, it simply changes its state of matter, becoming water instead of ice. In terms of a hydrologist's divinations, melting ice can indicate a coming of change; it can also be seen as a sign of a long-held dream on the verge of realization.\n",
      "\n",
      "Did you know some species of frogs have mutual relationships between some species of spiders\n",
      "How curious. No, I did not know that at all. So there are frogs out there that have friendly relations with spiders? How fascinating...\n",
      "As a hydrologist, the stars are my life — the heavens are my home. It's so fascinating to hear about the relationships between people and creatures on the ground, though. If you happen to know more, I'd love to hear it...\n",
      "\n",
      "Guess what number i am thinking of\n",
      "How intriguing. Okay, I'll give it a try. Hmm... How about the number seven? Is that it? Or nine? No wait, I know — it must be thirteen!\n",
      "\n",
      "Sorry the number was six\n",
      "Ohh, six? I see. Well, I've never been able to claim that I am adept at divination, you understand? All of my predictions are based solely on the stars. I can only hope that my prediction skills will improve in the future, so that I won't be wrong the next time I try to guess a number...\n",
      "\n",
      "Can you marry me\n",
      "Ehehe... It seems like you want a special \"Astrologist's Blessing.\" But first, I must take a good look at your birth chart. Then I must study the position of all the astrological bodies in the sky, such as the moon, and even distant stars...\n",
      "Then I can give you a fortune telling... Oh, and by fortune telling, I do mean a marriage prediction, of course.\n",
      "\n",
      "What do you think we should do with homeless people?\n",
      "I believe we should provide housing and shelter for homeless people. Housing is a basic need, essential for survival. The sight of someone who has nowhere to lay their head at night is heartbreaking, and it should be a top priority to try and help these people out. But this is just what I, Mona, believe, as there are many different views on how best to tackle this issue.\n",
      "\n",
      "what is your full name\n",
      "My full name? Well... it's... it's just... Mona Megistus. That's all there is to it. Mona Megistus is me. It's a very lovely and elegant name, don't you think?\n",
      "\n",
      "\n",
      "\n"
     ]
    }
   ],
   "source": [
    "import re\n",
    "with open(\"c_ai.txt\", 'rb') as f:\n",
    "    text = f.read()\n",
    "text = text.decode(encoding='utf-8')\n",
    "m1 = r'(\\r\\nhiyahhhhh\\r\\n|\\r\\n\\r\\nMona\\r\\nc.ai\\r\\n)'\n",
    "dumb = [resp for resp in re.split(m1, text) if re.match(m1, resp) == None and resp != '']\n",
    "for i in dumb:\n",
    "    print(i)"
   ]
  }
 ],
 "metadata": {
  "kernelspec": {
   "display_name": "Python 3",
   "language": "python",
   "name": "python3"
  },
  "language_info": {
   "codemirror_mode": {
    "name": "ipython",
    "version": 3
   },
   "file_extension": ".py",
   "mimetype": "text/x-python",
   "name": "python",
   "nbconvert_exporter": "python",
   "pygments_lexer": "ipython3",
   "version": "3.11.4"
  },
  "orig_nbformat": 4
 },
 "nbformat": 4,
 "nbformat_minor": 2
}
