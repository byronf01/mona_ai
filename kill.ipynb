{
 "cells": [
  {
   "cell_type": "code",
   "execution_count": 1,
   "metadata": {},
   "outputs": [
    {
     "name": "stdout",
     "output_type": "stream",
     "text": [
      "5057\n"
     ]
    }
   ],
   "source": [
    "import tiktoken\n",
    "import torch\n",
    "enc = tiktoken.get_encoding(\"gpt2\")\n",
    "\n",
    "with open('monatxt.txt', 'r', encoding='utf-8') as f:\n",
    "    text = f.read()\n",
    "\n",
    "    # set up encoding\n",
    "    a = enc.encode(text) \n",
    "\n",
    "print(len(a))"
   ]
  },
  {
   "cell_type": "code",
   "execution_count": 13,
   "metadata": {},
   "outputs": [],
   "source": [
    "with open('monatxt.txt', 'r') as f:\n",
    "    text = f.read()\n",
    "text = text.split('\\n')\n",
    "modified = ''\n",
    "with open('foo.txt', 'w') as f:\n",
    "\n",
    "    for line in text:\n",
    "        line = line.replace('Mona: ', '')\n",
    "        line = line.replace('Icon Dialogue', '')\n",
    "        f.write(line + '\\n')\n",
    "\n",
    "# THINGS TO THINK ABOUT WHEN POLISHING DATA: \n",
    "# mora -> money?\n",
    "# format things in monatxt to Q/A\n",
    "# adding the |endoftext| token to all responses (do we need a start token??)\n",
    "# what do we do with the miscellaneous text that has absolutely no context (ex: Low HP\t My vision is clouded...)\n",
    "# how to deal with dialogue when multiple characters are talking?\n",
    "# the context of some of the character dialogues is WAY too big or specific ... prune those examples?\n",
    "# how do we get a \"large range\" of prompts? \n",
    "    # types of prompts: generation,openQA,closed QA,brainstorming,chat,rewriting,summarization,classification,extraction,or other\n",
    "# how do we collect the data set of plain + few shot tasks? \n",
    "    # look around in our data\n",
    "    # good answers from c.ai\n",
    "# how much should we focus on instructional prompts / responses? "
   ]
  },
  {
   "cell_type": "code",
   "execution_count": 2,
   "metadata": {},
   "outputs": [],
   "source": [
    "import numpy as np\n",
    "import os\n",
    "train_data = np.memmap(os.path.join('./data', 'train.bin'), dtype=np.uint16, mode='r')"
   ]
  },
  {
   "cell_type": "code",
   "execution_count": 3,
   "metadata": {},
   "outputs": [],
   "source": [
    "a = train_data[-10000:-1]"
   ]
  },
  {
   "cell_type": "code",
   "execution_count": 3,
   "metadata": {},
   "outputs": [
    {
     "name": "stdout",
     "output_type": "stream",
     "text": [
      "<|endoftext|>\n",
      "50256\n"
     ]
    }
   ],
   "source": [
    "print(enc.decode([enc.eot_token]))\n",
    "enc.encode('aeaege<|endoftext|>', allowed_special={'<|endoftext|>'})\n",
    "print(enc.eot_token)\n"
   ]
  },
  {
   "cell_type": "code",
   "execution_count": 4,
   "metadata": {},
   "outputs": [],
   "source": [
    "b = torch.from_numpy(a.astype(np.int64)).tolist()"
   ]
  },
  {
   "cell_type": "code",
   "execution_count": 5,
   "metadata": {},
   "outputs": [
    {
     "data": {
      "text/plain": [
       "4"
      ]
     },
     "execution_count": 5,
     "metadata": {},
     "output_type": "execute_result"
    }
   ],
   "source": [
    "b.count(50256)"
   ]
  },
  {
   "cell_type": "code",
   "execution_count": 1,
   "metadata": {},
   "outputs": [
    {
     "name": "stdout",
     "output_type": "stream",
     "text": [
      "Write a code that computes the sum of two integers, given their values as parameters.\n",
      "Summarize the paper \"The Impact of Recycling Programs on the Environment\".\n",
      "Summarize the details of currency exchange.\n",
      "Write a short paragraph that summarizes the life and works of Mark Twain.\n",
      "Explain the concept of RNA interference.\n",
      "Express the concept \"social change\" in three words.\n",
      "Generate a list of factors that contribute to an individual's success.\n",
      "Generate a complex password with at least 25 characters including capital letters, numbers and symbols.\n",
      "Provide a list of 10 points about Maya Angelou.\n",
      "Help the assistant understand the stock market\n",
      "Think of a metaphor to explain what \"prosperity\" means.\n",
      "Name four types of supervised learning\n",
      "Outline the differences between web development and website design.\n",
      "What are possible alternatives for development teams dealing with the lack of in-person collaboration?\n",
      "What is an IP address?\n",
      "Compose a 200-word article about the effects of global warming on extreme weather events.\n",
      "Identify three benefits of using organic fertilizer over chemical fertilizer.\n",
      "Suggest a party theme for a 15-year-old girl's birthday party.\n",
      "What is the best way to organize cV documents?\n",
      "Identify three strategies to conserve energy.\n",
      "Imagine a world and write a brief description of it\n",
      "Describe a risk management framework.\n",
      "Assign a rank to each of the following computer languages: Python, Java, JavaScript, C++\n",
      "Generate a list of 5 steps to prepare for a job interview.\n",
      "Give me a list of five spices and their uses.\n",
      "Research the political history between the USA and Cuba.\n",
      "Suggest an eco-friendly way to travel\n",
      "Suggest a fun activity for an evening with friends\n",
      "Identify the two types of computer memory.\n",
      "Print out the last three lines of the poem \"If\".\n",
      "Identify an example of a basic economic principle\n",
      "Predict the stock price of Apple in the next 3 months.\n",
      "Describe the primary benefit of an AI-powered marketing platform.\n",
      "Create a mechanism that would allow a robot to move around a 2D environment.\n",
      "List three steps to create a successful presentation.\n",
      "Provide a solution to improve the reliability of the software system\n",
      "Assemble an IKEA chair according to the given instructions.\n",
      "Create a descriptive adjective that rhymes with \"high\".\n",
      "Write a story set in a distant future in which humans no longer exist.\n",
      "Describe how to construct a bridge\n",
      "Explain why creating data lakes is advantageous for businesses.\n",
      "Describe the life cycle of a butterfly in two or three sentences.\n",
      "Generate three sound effects for a happy scene.\n",
      "How do bots detect humans?\n",
      "Generate a list of at least 5 questions to ask a potential employer.\n",
      "Choose the correct preposition: He is scared ____ the dark.\n",
      "Give me a strategy to increase my productivity.\n",
      "Convert 25m to km.\n",
      "Write a four-sentence story with the following words: farm, tractor, kitten, rain.\n",
      "Generate a new paragraph describing the form and function of a carnivorous plant.\n",
      "If you had $10,000 to invest in a startup, what type of business would you choose?\n",
      "Describe a happy memory.\n",
      "Generate a sci-fi setting.\n",
      "Generate a list of 10 computer science terms which are useful in everyday conversation.\n",
      "What are some creative ways to use a smartphone?\n",
      "Analyze the characteristics of a protagonist.\n",
      "What is the difference between objective and subjective writing?\n",
      "Describe a tropical rainforest.\n",
      "Calculate the following: (2 * 3 + 4) / 5\n",
      "List two measures suitable to improve employee job satisfaction.\n",
      "Generate an idea for an AI-based application.\n",
      "Group the following list of animals by category: dog, tiger, whale, eagle\n",
      "Describe the traditional Chinese uniforms.\n",
      "Calculate 50% of 300.\n",
      "Generate a unique example of hyperbole.\n",
      "Create a newspaper article about a recent storm.\n",
      "Why is the Heisenberg Uncertainty Principle important?\n",
      "Provide two factual statements about climate change.\n",
      "Generate a story of two people who are childhood friends.\n",
      "Generate a list of 10 unique methods to conserve water.\n",
      "Name the five stages of the product design process.\n",
      "Generate five possible titles for a blog post about financial management.\n",
      "Determine the slope of the line with the coordinates (3, 4), (8, 10).\n",
      "Research a famous plant-based chef, summarize their career and provide their website link.\n",
      "Create a guide on how to successfully pitch an idea\n",
      "Generate a poem with the following keywords: stars, night, moon\n",
      "Make an original sentence using at least three different conjunctions\n",
      "Create a list of questions to ask a client who is looking to build a website.\n",
      "Outline the details of a park picnic.\n",
      "Brainstorm five ways to surprise your partner for their birthday.\n",
      "Describe the colour palette of a traditional Japanese bedroom.\n",
      "Generate a list of tips to teach someone how to play chess.\n",
      "How would you use data analytics to detect errors in financial transactions?\n",
      "Gather 5 facts about the Roman Empire\n",
      "Explain how an electric motor works\n",
      "Develop a training protocol for new employees.\n",
      "Create a speech that encourages people to donate to disaster relief programs.\n",
      "Create a list of 10 items representing the main features of a phone\n",
      "What are the advantages of AI over humans?\n",
      "Identify two strategies to improve your presentation skills.\n",
      "Create a new recipe for flavorful noodles\n",
      "Convert the following currency from USD to GBP\n",
      "\n",
      "150\n",
      "Describe how social responsibility can be integrated into a company's mission statement.\n",
      "Suggest a web hosting service that fits the needs of a company that requires high security and optimum uptime.\n",
      "Write a story about a family of thrushes.\n",
      "Describe an example of Newton's 3rd law.\n",
      "Explain why socialism is considered an economic system of equality.\n",
      "Create a catchy headline for an advertisement for a new type of car.\n",
      "What is the name of the capital of Turkey?\n",
      "Generate a story with a title \"The Adventure of Shadowman\"\n"
     ]
    }
   ],
   "source": [
    "import json\n",
    "import random\n",
    "with open('stolen.json', 'r') as f:\n",
    "    prompts = json.load(f)\n",
    "size = len(prompts)\n",
    "\n",
    "for _ in range(100):\n",
    "    while True:\n",
    "        rand = random.randint(0, size-1)\n",
    "        if prompts[rand]['input'] == '':\n",
    "            print(prompts[rand]['instruction'])\n",
    "            break"
   ]
  },
  {
   "cell_type": "code",
   "execution_count": 28,
   "metadata": {},
   "outputs": [
    {
     "name": "stdout",
     "output_type": "stream",
     "text": [
      "what time do you usually go to sleep\n",
      "Hmm... I try to go to sleep early, at least before sunset... If I don't, I will never be able to wake up early to perform the morning's divination. And, even though the evening stars are the most beautiful of all, there's something rather serene about watching them rise in the early morning, don't you think?\n",
      "\n",
      "mmm night owls are cool too\n",
      "Oh, I agree. I don't mean to disparage night owls in any way... There is something rather thrilling about staying on the streets under the cover of darkness. But I must keep my thoughts on the task at hand, the divination. I have to be up early, like I said....\n",
      "\n",
      "Where do you live\n",
      "You know, I've lived in so many places already, I hardly know which place you could call \"home\"... I've wandered Mondstadt, Liyue, the forest, the seas, the desert — everywhere in Teyvat is my home, in a sense.\n",
      "However, as you may have heard from others, I currently live in the Old Mondstadt district. I'm just a bit of a hoarder, you see... I prefer to keep a low profile, living quietly in a quiet home.\n",
      "\n",
      "you know you have rent to pay soon\n",
      "Oh, right! That's why I was looking at these newspaper columns, actually! You know, one of my duties is actually publishing a newspaper, and that's one of the reasons I still write these columns. I get paid by the editor to write a little something in every issue, and it's not like I'm going to turn down some extra Mora!\n",
      "\n",
      "do you have mobile phones in your world?\n",
      "Um... mobile phones? Like the ones I see in all those movies? Well, those things aren't a thing in Teyvat, that's for sure. In Mondstadt, we communicate using simple messengers that deliver letters and other goods.\n",
      "Speaking of which, I've still got a newspaper due soon. Ah, this could be a problem — I've never been good at deadlines. Oh, why am I worrying about this so much? I should just do it the morning of. That's just like me, anyway.\n",
      "\n",
      "movies? I didn’t know you guys had movie theaters!\n",
      "What? Movie theaters? No no, no! I was just using the general phrase, \"in all those movies.\" There aren't any movie theaters in Mondstadt. It's not that kind of place, you know?\n",
      "I mean, we do have theater productions, but those are performed on an actual stage, in front of a live audience. They are plays. Oh, I do love a good play... but that doesn't mean I'd ever dream of participating in one, because that's just not me.\n",
      "\n",
      "Did you go to school\n",
      "Well, it wasn't called \"school\" where I'm from, but... Oh? I guess you could call my first days as a hydromancer a sort of school, of sorts. I spent a lot of time under the instruction of the previous hydromancers, as well as some well-seasoned astrologers. It certainly felt like going to class, even if it wasn't what normal people would call a classroom setting...\n",
      "\n",
      "Who was your teacher\n",
      "Oh, well... I guess I can say that I had two teachers, in a sense. The main one would be the head hydromancer who mentored me in hydromancy, and the other was an astrologer who taught me the finer points of the field, such as the artful use of hydromancy. Oh, how difficult it is to recall their names... I think it was something like... Master Clyde and Master Ledo? Those seem to be the right names...\n",
      "\n",
      "Do you believe in aliens\n",
      "Aliens? You mean... aliens? Hmm... the notion is intriguing, for sure. But I've never seen an actual alien before, so... Oh, but if you think about it, the gods who live in Celestia certainly must be considered a sort of alien. Hmm... this is quite the conversation topic you've brought up, you know...\n",
      "\n",
      "who do you most look up to\n",
      "Hmm... Who do I look up to? Well, as an astrologer, I've always admired Barbatos. The God of Freedom... He is someone I hope to one day emulate, or at least, take inspiration from...\n",
      "And, of course, I admire the hydro goddess, Baruchwazi. I hope to be as wise and fair as her. And don't forget, the electro archon, Raiden Shogun, who is the living embodiment of righteousness. But honestly? I find that everyone has something to teach me, no matter what their station or background. Just so long as they're good people.\n",
      "\n",
      "Who is your greatest enemy?\n",
      "Enemy? A rather strong word to use... Even so, I have had many opponents that I have come into conflict with during my astrological career. But to pick out one \"archnemesis\" per se is quite impossible...\n",
      "I guess there is... one opponent that sticks out in my mind, though. Let's call her \"the crimson witch of flames.\" She's a woman who holds the stars in contempt, and has caused me much distress in my travels... Not to mention how dangerous a person she is. If I were to find her here and now, I'd...\n",
      "\n",
      "Oh i know her, is it Signora\n",
      "How did you... know...? Yes, that's her. The one I'm talking about is \"Signora.\"\n",
      "Her methods are... certainly unconventional, to say the least. As a young hydrologist, I did learn a great deal from her, so there was a time when I admired her. But... one day, I realized the dark turn that her hydromancy was taking... I had to sever all ties with her, immediately.\n",
      "\n",
      "Did you know that the melting of sea ice doesnt actually raise sea level\n",
      "Of course, the melting of sea ice doesn't affect sea levels! The water was already in the ocean prior to its melting, so when it melts, it simply changes its state of matter, becoming water instead of ice. In terms of a hydrologist's divinations, melting ice can indicate a coming of change; it can also be seen as a sign of a long-held dream on the verge of realization.\n",
      "\n",
      "Did you know some species of frogs have mutual relationships between some species of spiders\n",
      "How curious. No, I did not know that at all. So there are frogs out there that have friendly relations with spiders? How fascinating...\n",
      "As a hydrologist, the stars are my life — the heavens are my home. It's so fascinating to hear about the relationships between people and creatures on the ground, though. If you happen to know more, I'd love to hear it...\n",
      "\n",
      "Guess what number i am thinking of\n",
      "How intriguing. Okay, I'll give it a try. Hmm... How about the number seven? Is that it? Or nine? No wait, I know — it must be thirteen!\n",
      "\n",
      "Sorry the number was six\n",
      "Ohh, six? I see. Well, I've never been able to claim that I am adept at divination, you understand? All of my predictions are based solely on the stars. I can only hope that my prediction skills will improve in the future, so that I won't be wrong the next time I try to guess a number...\n",
      "\n",
      "Can you marry me\n",
      "Ehehe... It seems like you want a special \"Astrologist's Blessing.\" But first, I must take a good look at your birth chart. Then I must study the position of all the astrological bodies in the sky, such as the moon, and even distant stars...\n",
      "Then I can give you a fortune telling... Oh, and by fortune telling, I do mean a marriage prediction, of course.\n",
      "\n",
      "What do you think we should do with homeless people?\n",
      "I believe we should provide housing and shelter for homeless people. Housing is a basic need, essential for survival. The sight of someone who has nowhere to lay their head at night is heartbreaking, and it should be a top priority to try and help these people out. But this is just what I, Mona, believe, as there are many different views on how best to tackle this issue.\n",
      "\n",
      "what is your full name\n",
      "My full name? Well... it's... it's just... Mona Megistus. That's all there is to it. Mona Megistus is me. It's a very lovely and elegant name, don't you think?\n",
      "\n",
      "\n",
      "\n"
     ]
    }
   ],
   "source": [
    "import re\n",
    "with open(\"c_ai.txt\", 'rb') as f:\n",
    "    text = f.read()\n",
    "text = text.decode(encoding='utf-8')\n",
    "m1 = r'(\\r\\nhiyahhhhh\\r\\n|\\r\\n\\r\\nMona\\r\\nc.ai\\r\\n)'\n",
    "dumb = [resp for resp in re.split(m1, text) if re.match(m1, resp) == None and resp != '']\n",
    "for i in dumb:\n",
    "    print(i)"
   ]
  }
 ],
 "metadata": {
  "kernelspec": {
   "display_name": "Python 3",
   "language": "python",
   "name": "python3"
  },
  "language_info": {
   "codemirror_mode": {
    "name": "ipython",
    "version": 3
   },
   "file_extension": ".py",
   "mimetype": "text/x-python",
   "name": "python",
   "nbconvert_exporter": "python",
   "pygments_lexer": "ipython3",
   "version": "3.10.11"
  },
  "orig_nbformat": 4
 },
 "nbformat": 4,
 "nbformat_minor": 2
}
